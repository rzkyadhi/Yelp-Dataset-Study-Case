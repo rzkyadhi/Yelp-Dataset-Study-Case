{
  "nbformat": 4,
  "nbformat_minor": 0,
  "metadata": {
    "colab": {
      "name": "Parsing_Yelp_Dataset_Checkin.ipynb",
      "provenance": [],
      "authorship_tag": "ABX9TyM4a8ZBbcbLETQS0WkjwGA+",
      "include_colab_link": true
    },
    "kernelspec": {
      "name": "python3",
      "display_name": "Python 3"
    },
    "language_info": {
      "name": "python"
    }
  },
  "cells": [
    {
      "cell_type": "markdown",
      "metadata": {
        "id": "view-in-github",
        "colab_type": "text"
      },
      "source": [
        "<a href=\"https://colab.research.google.com/github/rzkyadhi/Yelp-Dataset-Study-Case/blob/main/Parsing_Yelp_Dataset_Checkin.ipynb\" target=\"_parent\"><img src=\"https://colab.research.google.com/assets/colab-badge.svg\" alt=\"Open In Colab\"/></a>"
      ]
    },
    {
      "cell_type": "code",
      "metadata": {
        "colab": {
          "base_uri": "https://localhost:8080/"
        },
        "id": "oPSLuaKBBNAe",
        "outputId": "3173f39f-16ed-4985-9d9f-2d8f0136e981"
      },
      "source": [
        "from google.colab import drive\n",
        "drive.mount('/content/drive')"
      ],
      "execution_count": 1,
      "outputs": [
        {
          "output_type": "stream",
          "name": "stdout",
          "text": [
            "Mounted at /content/drive\n"
          ]
        }
      ]
    },
    {
      "cell_type": "code",
      "metadata": {
        "id": "kK3A7lpNBZwf"
      },
      "source": [
        "import pandas as pd\n",
        "import numpy as np\n",
        "import json"
      ],
      "execution_count": 2,
      "outputs": []
    },
    {
      "cell_type": "code",
      "metadata": {
        "id": "6udZKzpiBmR0"
      },
      "source": [
        "# Read the JSON file\n",
        "yelp_checkin = pd.read_json(\"/content/drive/MyDrive/Project/DANA/Yelp Study Case/yelp_academic_dataset_checkin.json\", lines=True)"
      ],
      "execution_count": 4,
      "outputs": []
    },
    {
      "cell_type": "code",
      "metadata": {
        "colab": {
          "base_uri": "https://localhost:8080/"
        },
        "id": "wMBoUVoxBsLg",
        "outputId": "b7923e35-fcf7-4855-8ade-ec866f2b221a"
      },
      "source": [
        "for col in yelp_checkin.columns:\n",
        "    print(col)"
      ],
      "execution_count": 5,
      "outputs": [
        {
          "output_type": "stream",
          "name": "stdout",
          "text": [
            "business_id\n",
            "date\n"
          ]
        }
      ]
    },
    {
      "cell_type": "code",
      "metadata": {
        "id": "wMagsRcgB3UM"
      },
      "source": [
        "# Convert into CSV\n",
        "yelp_checkin.to_csv('yelp_academic_dataset_checkin.csv')"
      ],
      "execution_count": 8,
      "outputs": []
    },
    {
      "cell_type": "code",
      "metadata": {
        "id": "dPPtVxyjB7XX"
      },
      "source": [
        "# Parsing into smaller file\n",
        "def main():\n",
        "    chunk_size = 10000  # lines\n",
        "\n",
        "    def write_chunk(part, lines):\n",
        "        with open('/content/drive/MyDrive/Project/DANA/Yelp Study Case/CSV_CHECKIN/checkin_part_'+ str(part) +'.csv', 'w',encoding=\"utf8\") as f_out:\n",
        "            f_out.write(header)\n",
        "            f_out.writelines(lines)\n",
        "\n",
        "    with open('yelp_academic_dataset_checkin.csv', 'r',encoding=\"utf8\") as f:\n",
        "        count = 0\n",
        "        header = f.readline()\n",
        "        lines = []\n",
        "        for line in f:\n",
        "            count += 1\n",
        "            lines.append(line)\n",
        "            if count % chunk_size == 0:\n",
        "                write_chunk(count // chunk_size, lines)\n",
        "                lines = []\n",
        "        # write remainder\n",
        "        if len(lines) > 0:\n",
        "            write_chunk((count // chunk_size) + 1, lines)\n",
        "\n",
        "if __name__ == '__main__':\n",
        "    main()"
      ],
      "execution_count": 9,
      "outputs": []
    }
  ]
}