{
  "nbformat": 4,
  "nbformat_minor": 0,
  "metadata": {
    "colab": {
      "name": "Parsing Yelp_Dataset_Tip.ipynb",
      "provenance": [],
      "collapsed_sections": [],
      "authorship_tag": "ABX9TyOGhzcQM+Nc5d+5IkftJ0zO",
      "include_colab_link": true
    },
    "kernelspec": {
      "name": "python3",
      "display_name": "Python 3"
    },
    "language_info": {
      "name": "python"
    }
  },
  "cells": [
    {
      "cell_type": "markdown",
      "metadata": {
        "id": "view-in-github",
        "colab_type": "text"
      },
      "source": [
        "<a href=\"https://colab.research.google.com/github/rzkyadhi/Yelp-Dataset-Study-Case/blob/main/Parsing_Yelp_Dataset_Tip.ipynb\" target=\"_parent\"><img src=\"https://colab.research.google.com/assets/colab-badge.svg\" alt=\"Open In Colab\"/></a>"
      ]
    },
    {
      "cell_type": "code",
      "metadata": {
        "colab": {
          "base_uri": "https://localhost:8080/"
        },
        "id": "r1Cut1A92z7W",
        "outputId": "7c2d7ce9-cdbf-4394-f9fc-e5996c410fc5"
      },
      "source": [
        "from google.colab import drive\n",
        "drive.mount('/content/drive')"
      ],
      "execution_count": null,
      "outputs": [
        {
          "output_type": "stream",
          "name": "stdout",
          "text": [
            "Mounted at /content/drive\n"
          ]
        }
      ]
    },
    {
      "cell_type": "code",
      "metadata": {
        "id": "doK7P0aM3QGy"
      },
      "source": [
        "import pandas as pd\n",
        "import numpy as np\n",
        "import json"
      ],
      "execution_count": null,
      "outputs": []
    },
    {
      "cell_type": "code",
      "metadata": {
        "id": "P1YmKiFo3d5p"
      },
      "source": [
        "#review_json_path = '/content/drive/MyDrive/Project/DANA/Yelp Study Case/yelp_academic_dataset_review.json'\n",
        "yelp_tip = pd.read_json(\"/content/drive/MyDrive/Project/DANA/Yelp Study Case/yelp_academic_dataset_tip.json\", lines=True)"
      ],
      "execution_count": null,
      "outputs": []
    },
    {
      "cell_type": "code",
      "metadata": {
        "colab": {
          "base_uri": "https://localhost:8080/"
        },
        "id": "Tys_9iGyUatJ",
        "outputId": "14df0bc3-336e-4d77-8962-0f650eef01b6"
      },
      "source": [
        "# iterating the columns\n",
        "for col in yelp_tip.columns:\n",
        "    print(col)"
      ],
      "execution_count": null,
      "outputs": [
        {
          "output_type": "stream",
          "name": "stdout",
          "text": [
            "user_id\n",
            "business_id\n",
            "text\n",
            "date\n",
            "compliment_count\n"
          ]
        }
      ]
    },
    {
      "cell_type": "code",
      "metadata": {
        "id": "zGRZRB134SV7"
      },
      "source": [
        "yelp_tip.to_csv('yelp_academic_yelp_tip.csv')"
      ],
      "execution_count": null,
      "outputs": []
    },
    {
      "cell_type": "code",
      "metadata": {
        "id": "IyQktAALWESn"
      },
      "source": [
        "def main():\n",
        "    chunk_size = 10000  # lines\n",
        "\n",
        "    def write_chunk(part, lines):\n",
        "        with open('/content/drive/MyDrive/Project/DANA/Yelp Study Case/CSV_TIP/tip_part_'+ str(part) +'.csv', 'w',encoding=\"utf8\") as f_out:\n",
        "            f_out.write(header)\n",
        "            f_out.writelines(lines)\n",
        "\n",
        "    with open('yelp_academic_dataset_tip.csv', 'r',encoding=\"utf8\") as f:\n",
        "        count = 0\n",
        "        header = f.readline()\n",
        "        lines = []\n",
        "        for line in f:\n",
        "            count += 1\n",
        "            lines.append(line)\n",
        "            if count % chunk_size == 0:\n",
        "                write_chunk(count // chunk_size, lines)\n",
        "                lines = []\n",
        "        # write remainder\n",
        "        if len(lines) > 0:\n",
        "            write_chunk((count // chunk_size) + 1, lines)\n",
        "\n",
        "if __name__ == '__main__':\n",
        "    main()"
      ],
      "execution_count": null,
      "outputs": []
    }
  ]
}